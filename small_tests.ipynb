{
 "cells": [
  {
   "cell_type": "code",
   "execution_count": 13,
   "metadata": {},
   "outputs": [
    {
     "name": "stdout",
     "output_type": "stream",
     "text": [
      "encoder_outputs, hidden torch.Size([32, 10, 512]) torch.Size([1, 32, 512])\n",
      "encoder_outputs, decoder_hidden.unsqueeze(2) torch.Size([32, 10, 512]) torch.Size([32, 512, 1])\n",
      "Attention weights shape: torch.Size([32, 10])\n"
     ]
    }
   ],
   "source": [
    "import torch\n",
    "import torch.nn as nn\n",
    "import torch.nn.functional as F\n",
    "\n",
    "class EncoderLSTM(nn.Module):\n",
    "    def __init__(self, input_dim, emb_dim, hidden_dim, n_layers):\n",
    "        super(EncoderLSTM, self).__init__()\n",
    "        self.embedding = nn.Embedding(input_dim, emb_dim)\n",
    "        self.rnn = nn.LSTM(emb_dim, hidden_dim, n_layers, batch_first=True)\n",
    "        \n",
    "    def forward(self, src):\n",
    "        embedded = self.embedding(src)\n",
    "        outputs, (hidden, cell) = self.rnn(embedded)\n",
    "        return outputs, hidden, cell\n",
    "\n",
    "class Attention(nn.Module):\n",
    "    def __init__(self):\n",
    "        super(Attention, self).__init__()\n",
    "\n",
    "    def forward(self, encoder_outputs, decoder_hidden):\n",
    "        # encoder_outputs: (batch_size, seq_len, hidden_dim)\n",
    "        # decoder_hidden: (batch_size, hidden_dim)\n",
    "        print(\"encoder_outputs, decoder_hidden.unsqueeze(2)\",encoder_outputs.shape, decoder_hidden.unsqueeze(2).shape)\n",
    "\n",
    "        # Calculate the attention scores.\n",
    "        scores = torch.bmm(encoder_outputs, decoder_hidden.unsqueeze(2)).squeeze(2)  # (batch_size, seq_len)\n",
    "        \n",
    "        attn_weights = F.softmax(scores, dim=1)  # (batch_size, seq_len)\n",
    "        print(\"Attention weights shape:\", attn_weights.shape)\n",
    "        context_vector = torch.bmm(attn_weights.unsqueeze(1), encoder_outputs).squeeze(1)  # (batch_size, hidden_dim)\n",
    "\n",
    "        return context_vector, attn_weights\n",
    "\n",
    "class DecoderLSTMWithAttention(nn.Module):\n",
    "    def __init__(self, output_dim, emb_dim, hidden_dim, n_layers):\n",
    "        super(DecoderLSTMWithAttention, self).__init__()\n",
    "        self.embedding = nn.Embedding(output_dim, emb_dim)\n",
    "        self.rnn = nn.LSTM(emb_dim + hidden_dim, hidden_dim, n_layers, batch_first=True)\n",
    "        self.out = nn.Linear(hidden_dim, output_dim)\n",
    "        self.attention = Attention()\n",
    "\n",
    "    def forward(self, input, encoder_outputs, hidden, cell):\n",
    "        input = input.unsqueeze(1)  # (batch_size, 1)\n",
    "        embedded = self.embedding(input)  # (batch_size, 1, emb_dim)\n",
    "        \n",
    "        context_vector, attn_weights = self.attention(encoder_outputs, hidden[-1])  # using the last layer's hidden state\n",
    "\n",
    "        rnn_input = torch.cat([embedded, context_vector.unsqueeze(1)], dim=2)  # (batch_size, 1, emb_dim + hidden_dim)\n",
    "\n",
    "        output, (hidden, cell) = self.rnn(rnn_input, (hidden, cell))\n",
    "        prediction = self.out(output.squeeze(1))\n",
    "        \n",
    "        return prediction, hidden, cell\n",
    "\n",
    "# Example usage\n",
    "INPUT_DIM = 1000  # e.g., size of the source language vocabulary\n",
    "OUTPUT_DIM = 1000  # e.g., size of the target language vocabulary\n",
    "EMB_DIM = 256\n",
    "HIDDEN_DIM = 512\n",
    "N_LAYERS = 1\n",
    "\n",
    "encoder = EncoderLSTM(INPUT_DIM, EMB_DIM, HIDDEN_DIM, N_LAYERS)\n",
    "decoder = DecoderLSTMWithAttention(OUTPUT_DIM, EMB_DIM, HIDDEN_DIM, N_LAYERS)\n",
    "\n",
    "src_seq = torch.randint(0, INPUT_DIM, (32, 10))  # batch of 32, sequence length 10\n",
    "encoder_outputs, hidden, cell = encoder(src_seq)\n",
    "print(\"encoder_outputs, hidden\",encoder_outputs.shape, hidden.shape)\n",
    "\n",
    "\n",
    "input = torch.randint(0, OUTPUT_DIM, (32,))  # batch of 32, single time step\n",
    "output, hidden, cell = decoder(input, encoder_outputs, hidden, cell)"
   ]
  },
  {
   "cell_type": "code",
   "execution_count": 10,
   "metadata": {},
   "outputs": [
    {
     "data": {
      "text/plain": [
       "(torch.Size([2, 32, 512]), torch.Size([32, 512, 1]))"
      ]
     },
     "execution_count": 10,
     "metadata": {},
     "output_type": "execute_result"
    }
   ],
   "source": [
    "hidden.shape, hidden[-1].unsqueeze(2).shape"
   ]
  }
 ],
 "metadata": {
  "kernelspec": {
   "display_name": "Python 3",
   "language": "python",
   "name": "python3"
  },
  "language_info": {
   "codemirror_mode": {
    "name": "ipython",
    "version": 3
   },
   "file_extension": ".py",
   "mimetype": "text/x-python",
   "name": "python",
   "nbconvert_exporter": "python",
   "pygments_lexer": "ipython3",
   "version": "3.10.12"
  },
  "orig_nbformat": 4
 },
 "nbformat": 4,
 "nbformat_minor": 2
}
